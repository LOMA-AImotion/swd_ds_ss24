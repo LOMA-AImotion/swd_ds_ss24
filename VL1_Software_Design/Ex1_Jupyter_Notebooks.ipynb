{
 "cells": [
  {
   "cell_type": "markdown",
   "metadata": {},
   "source": [
    "# Übung 1 - Jupyter Notebooks\n",
    "\n",
    "In der Sie mit Jupyter-Notebooks vertraut werden. \n",
    "\n",
    "Wir ziehen zunächst 1000 zufällige Werte aus einer Normalverteilung mit benutzerdefiniertem Mittelwert und Varianz-Parameter und visualisieren dann das Ergebnis. "
   ]
  },
  {
   "cell_type": "code",
   "execution_count": 5,
   "metadata": {},
   "outputs": [],
   "source": [
    "import numpy as np\n",
    "import matplotlib.pyplot as plt\n",
    "\n",
    "# Benutzerdefinierte Parameter für die Normalverteilung\n",
    "mittelwert = 180  # Mittelwert (mean)\n",
    "varianz = 25      # Varianz (variance)\n",
    "standardabweichung = np.sqrt(varianz)  # Standardabweichung (standard deviation)\n",
    "\n",
    "# 1000 zufällige Werte aus der Normalverteilung ziehen\n",
    "zufallswerte = np.random.normal(mittelwert, standardabweichung, 1000)\n",
    "\n",
    "# TODO: Geben Sie hier die ersten 10 Werte aus zufallswerte aus (Hinweis: Slicing!)\n",
    "# print(...)"
   ]
  },
  {
   "cell_type": "markdown",
   "metadata": {},
   "source": [
    "Geben Sie nun ein Histogramm der zufälligen Werte aus. (Hinweis `plt.hist`, hier können Sie gerne KI befragen)"
   ]
  },
  {
   "cell_type": "code",
   "execution_count": null,
   "metadata": {},
   "outputs": [],
   "source": []
  },
  {
   "cell_type": "markdown",
   "metadata": {},
   "source": [
    "Geben Sie nun in dem Histogramm auch die Parameter `mittelwert` und `standardabweichung` aus (Hinweis `plt.axvline`):"
   ]
  },
  {
   "cell_type": "code",
   "execution_count": null,
   "metadata": {},
   "outputs": [],
   "source": []
  },
  {
   "cell_type": "markdown",
   "metadata": {},
   "source": [
    "Nun *wiederholen* Sie das Experiment mit zwei weiteren Random-Seeds (z.B. 42 und 1337)"
   ]
  },
  {
   "cell_type": "code",
   "execution_count": null,
   "metadata": {},
   "outputs": [],
   "source": []
  }
 ],
 "metadata": {
  "kernelspec": {
   "display_name": "base",
   "language": "python",
   "name": "python3"
  },
  "language_info": {
   "codemirror_mode": {
    "name": "ipython",
    "version": 3
   },
   "file_extension": ".py",
   "mimetype": "text/x-python",
   "name": "python",
   "nbconvert_exporter": "python",
   "pygments_lexer": "ipython3",
   "version": "3.8.18"
  }
 },
 "nbformat": 4,
 "nbformat_minor": 2
}
