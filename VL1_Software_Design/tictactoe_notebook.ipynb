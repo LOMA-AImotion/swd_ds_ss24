{
 "cells": [
  {
   "cell_type": "markdown",
   "metadata": {},
   "source": [
    "# TicTacToe im Jupyter Notebook\n",
    "Spielverlauf direkt im Notebook; initialisiere zunächst das Spielbrett"
   ]
  },
  {
   "cell_type": "code",
   "execution_count": null,
   "metadata": {},
   "outputs": [],
   "source": [
    "%load_ext autoreload\n",
    "%autoreload 2"
   ]
  },
  {
   "cell_type": "code",
   "execution_count": 8,
   "metadata": {},
   "outputs": [],
   "source": [
    "aktueller_spieler = \"O\"\n",
    "board = [[\"\" for _ in range(3)] for _ in range(3)]\n",
    "from tictactoe import check_winner, print_board"
   ]
  },
  {
   "cell_type": "code",
   "execution_count": 9,
   "metadata": {},
   "outputs": [
    {
     "name": "stdout",
     "output_type": "stream",
     "text": [
      "Spieler X ist dran: Wohin setzen?\n",
      "  X  \n",
      "     \n",
      "     \n",
      "Spieler O ist dran: Wohin setzen?\n",
      "  O  \n",
      "     \n",
      "     \n",
      "Spieler X ist dran: Wohin setzen?\n",
      "  O  \n",
      "  X  \n",
      "     \n",
      "Spieler O ist dran: Wohin setzen?\n"
     ]
    },
    {
     "ename": "ValueError",
     "evalue": "invalid literal for int() with base 10: ''",
     "output_type": "error",
     "traceback": [
      "\u001b[1;31m---------------------------------------------------------------------------\u001b[0m",
      "\u001b[1;31mValueError\u001b[0m                                Traceback (most recent call last)",
      "Cell \u001b[1;32mIn[9], line 5\u001b[0m\n\u001b[0;32m      3\u001b[0m aktueller_spieler \u001b[38;5;241m=\u001b[39m \u001b[38;5;124m\"\u001b[39m\u001b[38;5;124mX\u001b[39m\u001b[38;5;124m\"\u001b[39m \u001b[38;5;28;01mif\u001b[39;00m aktueller_spieler \u001b[38;5;241m==\u001b[39m \u001b[38;5;124m\"\u001b[39m\u001b[38;5;124mO\u001b[39m\u001b[38;5;124m\"\u001b[39m \u001b[38;5;28;01melse\u001b[39;00m \u001b[38;5;124m\"\u001b[39m\u001b[38;5;124mO\u001b[39m\u001b[38;5;124m\"\u001b[39m\n\u001b[0;32m      4\u001b[0m \u001b[38;5;28mprint\u001b[39m(\u001b[38;5;124mf\u001b[39m\u001b[38;5;124m\"\u001b[39m\u001b[38;5;124mSpieler \u001b[39m\u001b[38;5;132;01m{\u001b[39;00maktueller_spieler\u001b[38;5;132;01m}\u001b[39;00m\u001b[38;5;124m ist dran: Wohin setzen?\u001b[39m\u001b[38;5;124m\"\u001b[39m)\n\u001b[1;32m----> 5\u001b[0m zeile \u001b[38;5;241m=\u001b[39m \u001b[38;5;28;43mint\u001b[39;49m\u001b[43m(\u001b[49m\u001b[38;5;28;43minput\u001b[39;49m\u001b[43m(\u001b[49m\u001b[38;5;124;43m\"\u001b[39;49m\u001b[38;5;124;43mZeile? \u001b[39;49m\u001b[38;5;124;43m{\u001b[39;49m\u001b[38;5;124;43m0 - 2}\u001b[39;49m\u001b[38;5;124;43m\"\u001b[39;49m\u001b[43m)\u001b[49m\u001b[43m)\u001b[49m\n\u001b[0;32m      6\u001b[0m spalte \u001b[38;5;241m=\u001b[39m \u001b[38;5;28mint\u001b[39m(\u001b[38;5;28minput\u001b[39m(\u001b[38;5;124m\"\u001b[39m\u001b[38;5;124mSpalte? \u001b[39m\u001b[38;5;124m{\u001b[39m\u001b[38;5;124m0 - 2}\u001b[39m\u001b[38;5;124m\"\u001b[39m))\n\u001b[0;32m      7\u001b[0m board[zeile][spalte] \u001b[38;5;241m=\u001b[39m aktueller_spieler\n",
      "\u001b[1;31mValueError\u001b[0m: invalid literal for int() with base 10: ''"
     ]
    }
   ],
   "source": [
    "gewonnen = False\n",
    "while not gewonnen: \n",
    "    aktueller_spieler = \"X\" if aktueller_spieler == \"O\" else \"O\"\n",
    "    print(f\"Spieler {aktueller_spieler} ist dran: Wohin setzen?\")\n",
    "    zeile = int(input(\"Zeile? {0 - 2}\"))\n",
    "    spalte = int(input(\"Spalte? {0 - 2}\"))\n",
    "    board[zeile][spalte] = aktueller_spieler\n",
    "    print_board(board)\n",
    "    gewonnen = check_winner(board)\n",
    "     \n",
    "print(\"Spiel vorbei!\")"
   ]
  }
 ],
 "metadata": {
  "kernelspec": {
   "display_name": "base",
   "language": "python",
   "name": "python3"
  },
  "language_info": {
   "codemirror_mode": {
    "name": "ipython",
    "version": 3
   },
   "file_extension": ".py",
   "mimetype": "text/x-python",
   "name": "python",
   "nbconvert_exporter": "python",
   "pygments_lexer": "ipython3",
   "version": "3.8.18"
  }
 },
 "nbformat": 4,
 "nbformat_minor": 2
}
