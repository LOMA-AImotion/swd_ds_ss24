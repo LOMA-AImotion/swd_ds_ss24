{
 "cells": [
  {
   "cell_type": "markdown",
   "metadata": {},
   "source": [
    "# TicTacToe im Jupyter Notebook"
   ]
  },
  {
   "cell_type": "code",
   "execution_count": 1,
   "metadata": {},
   "outputs": [],
   "source": [
    "%load_ext autoreload\n",
    "%autoreload 2"
   ]
  },
  {
   "cell_type": "code",
   "execution_count": 3,
   "metadata": {},
   "outputs": [
    {
     "name": "stdout",
     "output_type": "stream",
     "text": [
      "------------------\n",
      "     \n",
      "     \n",
      "     \n",
      "==================\n"
     ]
    }
   ],
   "source": [
    "from tictactoe import check_winner, print_board\n",
    "aktueller_spieler = \"O\"\n",
    "board = [[\"\" for _ in range(3)] for _ in range(3)]\n",
    "print_board(board)"
   ]
  },
  {
   "cell_type": "code",
   "execution_count": 5,
   "metadata": {},
   "outputs": [
    {
     "name": "stdout",
     "output_type": "stream",
     "text": [
      "Spieler O ist an der Reihe\n",
      "------------------\n",
      "O X  \n",
      "  X O\n",
      "  O O\n",
      "==================\n",
      "Spieler X ist an der Reihe\n",
      "------------------\n",
      "O X X\n",
      "  X O\n",
      "  O O\n",
      "==================\n",
      "Spieler O ist an der Reihe\n",
      "------------------\n",
      "O X X\n",
      "  X O\n",
      "O O O\n",
      "==================\n",
      "Spiel vorbei: Gewinner O\n"
     ]
    }
   ],
   "source": [
    "gewonnen = False\n",
    "while not gewonnen:\n",
    "    aktueller_spieler = \"X\" if aktueller_spieler == \"O\" else \"O\"\n",
    "    print(f\"Spieler {aktueller_spieler} ist an der Reihe\")\n",
    "    zeile = int(input(\"Zeile?\"))\n",
    "    spalte = int(input(\"Spalte?\"))\n",
    "    board[zeile][spalte] = aktueller_spieler\n",
    "    gewonnen = check_winner(board)\n",
    "    print_board(board)\n",
    "print(f\"Spiel vorbei: Gewinner {aktueller_spieler}\")"
   ]
  }
 ],
 "metadata": {
  "kernelspec": {
   "display_name": "base",
   "language": "python",
   "name": "python3"
  },
  "language_info": {
   "codemirror_mode": {
    "name": "ipython",
    "version": 3
   },
   "file_extension": ".py",
   "mimetype": "text/x-python",
   "name": "python",
   "nbconvert_exporter": "python",
   "pygments_lexer": "ipython3",
   "version": "3.8.18"
  }
 },
 "nbformat": 4,
 "nbformat_minor": 2
}
