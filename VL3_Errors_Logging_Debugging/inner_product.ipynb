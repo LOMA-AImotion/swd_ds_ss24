{
 "cells": [
  {
   "cell_type": "markdown",
   "metadata": {},
   "source": [
    "# Debugging in Jupyter Notebooks"
   ]
  },
  {
   "cell_type": "code",
   "execution_count": 1,
   "metadata": {},
   "outputs": [],
   "source": [
    "def inner_product(x:list, y:list) -> int:\n",
    "    result = 0\n",
    "    for i in range(len(x)):\n",
    "        result += x[i]*y[0]\n",
    "    return result"
   ]
  },
  {
   "cell_type": "code",
   "execution_count": 3,
   "metadata": {},
   "outputs": [
    {
     "name": "stdout",
     "output_type": "stream",
     "text": [
      "Error: Inner product of [1, 3, 5] and [0, 1, -1] should be -2 but is 0\n"
     ]
    }
   ],
   "source": [
    "def test_inner_product(x:list, y:list, expected:int):\n",
    "    actual = inner_product(x, y)\n",
    "    if actual != expected:\n",
    "        print(f\"Error: Inner product of {x} and {y} should be {expected} but is {actual}\")\n",
    "test_inner_product([1,3,5], [0, 1, -1], -2)"
   ]
  }
 ],
 "metadata": {
  "kernelspec": {
   "display_name": "base",
   "language": "python",
   "name": "python3"
  },
  "language_info": {
   "codemirror_mode": {
    "name": "ipython",
    "version": 3
   },
   "file_extension": ".py",
   "mimetype": "text/x-python",
   "name": "python",
   "nbconvert_exporter": "python",
   "pygments_lexer": "ipython3",
   "version": "3.8.18"
  }
 },
 "nbformat": 4,
 "nbformat_minor": 2
}
